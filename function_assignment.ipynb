{
  "cells": [
    {
      "cell_type": "markdown",
      "metadata": {
        "id": "vvc7F3PgsLQC"
      },
      "source": []
    },
    {
      "cell_type": "markdown",
      "metadata": {
        "id": "HdRCOKtEsNFc"
      },
      "source": [
        "**Theory question **"
      ]
    },
    {
      "cell_type": "markdown",
      "metadata": {
        "id": "glqQu6RCsTp6"
      },
      "source": [
        "ques 1 . What is the difference between a function and a method in Python ?\n",
        "\n",
        "A function is a block of code that performs a specific task .\n",
        "Functions are defined using the \"def\" keyword and can be called by their name followed by parentheses.\n",
        "Functions can accept parameters and return values.\n",
        "\n",
        "A method is a function that is associated with an object (usually an instance of a class) and is called using dot notation on that object.\n",
        "Methods are defined within a class and typically operate on the data contained within the instance (using self to refer to the instance).\n",
        "Every method implicitly takes at least one argument: self, which refers to the instance of the class.\n",
        "\n",
        "\n",
        "\n"
      ]
    },
    {
      "cell_type": "markdown",
      "metadata": {
        "id": "wywZM8mZPIzi"
      },
      "source": [
        "**function example**"
      ]
    },
    {
      "cell_type": "code",
      "execution_count": null,
      "metadata": {
        "colab": {
          "base_uri": "https://localhost:8080/"
        },
        "id": "yOVl8BW9NbcP",
        "outputId": "4a97961e-f5f4-460e-9da4-f13c17efbe19"
      },
      "outputs": [
        {
          "name": "stdout",
          "output_type": "stream",
          "text": [
            "im in ,france\n"
          ]
        }
      ],
      "source": [
        "def travel(country):\n",
        "    return \"im in ,\" + country\n",
        "\n",
        "print(travel(\"france\"))"
      ]
    },
    {
      "cell_type": "markdown",
      "metadata": {
        "id": "WWAwKd-aOocd"
      },
      "source": [
        "**method example**"
      ]
    },
    {
      "cell_type": "code",
      "execution_count": null,
      "metadata": {
        "colab": {
          "base_uri": "https://localhost:8080/"
        },
        "id": "5PE9Wn-ZQNcX",
        "outputId": "eb381879-22d1-42f5-bf47-07f5ba9ccb83"
      },
      "outputs": [
        {
          "name": "stdout",
          "output_type": "stream",
          "text": [
            "Hello, how are you?\n"
          ]
        }
      ],
      "source": [
        "class Person:\n",
        "    def greet(self):\n",
        "\n",
        "        print(\"Hello, how are you?\")\n",
        "person1 = Person()\n",
        "\n",
        "person1.greet()\n",
        "\n"
      ]
    },
    {
      "cell_type": "markdown",
      "metadata": {
        "id": "mCvtWi9kPC0G"
      },
      "source": [
        "ques 2 Explain the concept of function arguments and parameters in Python .\n",
        "\n",
        "In Python, function arguments and parameters are terms used to describe the values passed to a function when it's called and the variables in the function definition that represent those values, respectively.\n",
        "\n",
        "Parameters are part of the function signature and are used to define how the function can operate on the data passed to it whereas in agrument, When calling a function, you provide arguments that correspond to the parameters in the function definition."
      ]
    },
    {
      "cell_type": "markdown",
      "metadata": {
        "id": "8q1oLWuyRqcs"
      },
      "source": [
        "ques 3  What are the different ways to define and call a function in Python?\n",
        "\n",
        "In Python, there are different ways to define and call functions depending on the need and structure of your program. for example:\n",
        "\n",
        "Simple Function: Define with def and call by simply passing arguments.\n",
        "\n",
        "Function with Parameters: Pass values to parameters when calling.\n",
        "\n",
        "Function with Return Value: Use return to get a result from the function.\n",
        "\n",
        "Function with Default Arguments: Provide default values for optional parameters.\n",
        "\n",
        "Variable-length Arguments: Use *args (for positional arguments) and **kwargs (for keyword arguments).\n",
        "Lambda Functions: Define anonymous functions using lambda.\n",
        "\n",
        "Recursive Function: A function that calls itself.\n",
        "Method in a Class: A function defined within a class that operates on instance data.\n",
        "\n",
        "Each method of defining and calling functions serves a specific purpose and is used based on the context of the problem you're solving.\n",
        "\n",
        "\n",
        "\n",
        "\n"
      ]
    },
    {
      "cell_type": "markdown",
      "metadata": {
        "id": "opf2wvaJSgPN"
      },
      "source": [
        "ques 4 . What is the purpose of the `return` statement in a Python function?\n",
        "\n",
        "The return statement in a Python function serves to exit the function and send a result back to the caller. When a function is called, the return statement allows you to provide a value that can be used outside of the function.\n",
        "\n",
        "for example:"
      ]
    },
    {
      "cell_type": "code",
      "execution_count": null,
      "metadata": {
        "colab": {
          "base_uri": "https://localhost:8080/"
        },
        "id": "pljsj1vsS1fB",
        "outputId": "4d705488-b930-4e87-f78f-0ae102c78360"
      },
      "outputs": [
        {
          "name": "stdout",
          "output_type": "stream",
          "text": [
            "12\n"
          ]
        }
      ],
      "source": [
        "def add(a, b):\n",
        "    return a + b  # Return the sum of a and b\n",
        "\n",
        "# Call the function and store the result\n",
        "result = add(10,2)\n",
        "\n",
        "print(result)\n"
      ]
    },
    {
      "cell_type": "markdown",
      "metadata": {
        "id": "xVSIfnp1TCks"
      },
      "source": [
        "ques 5  What are iterators in Python and how do they differ from iterables?\n",
        "\n",
        "An iterator is an object that represents a stream of data, and it is the mechanism used to iterate over an iterable. An iterator must implement two methods:\n",
        "\n",
        "__iter__(): This method returns the iterator object itself.\n",
        "__next__(): This method returns the next item in the sequence and raises the StopIteration exception when there are no more items to return.\n",
        "\n",
        "n Python, iterators and iterables are closely related concepts that help in iterating over data structures such as lists, tuples, and dictionaries.\n",
        "\n",
        "Iterable: An object that can be looped over (e.g., list, tuple, dictionary). It supports the __iter__() method and can be passed to a for loop.\n",
        "Iterator: An object that keeps track of the current state of iteration. It supports both __iter__() and __next__() methods. Iterators are used to fetch elements one at a time using next()."
      ]
    },
    {
      "cell_type": "markdown",
      "metadata": {
        "id": "wQPr6SPDT5Oc"
      },
      "source": [
        "ques 6  Explain the concept of generators in Python and how they are defined.\n",
        "\n",
        "A generator is a special type of iterator in Python that allows you to iterate over a sequence of values, but instead of returning all the values at once (like a list or tuple), a generator yields values one at a time. This makes generators more memory-efficient, especially when working with large data sets or infinite sequences.\n",
        "\n",
        "Generators are defined using functions with the yield keyword instead of return. When a function contains yield, it becomes a generator function.\n",
        "\n",
        "how generators are defined :\n",
        "Using a Generator Function (with yield): A generator function is defined like a normal function but uses the yield keyword instead of return. When the function is called, it doesn't run immediately but returns a generator object, which can be iterated over.\n",
        "\n",
        "for example:"
      ]
    },
    {
      "cell_type": "code",
      "execution_count": null,
      "metadata": {
        "colab": {
          "background_save": true,
          "base_uri": "https://localhost:8080/"
        },
        "id": "cQcMCnqyVHEB",
        "outputId": "25dfb041-10ca-41f4-8e12-8e915d2a76d3"
      },
      "outputs": [
        {
          "name": "stdout",
          "output_type": "stream",
          "text": [
            "1\n",
            "2\n",
            "3\n",
            "4\n",
            "5\n",
            "6\n",
            "7\n",
            "8\n",
            "9\n",
            "10\n"
          ]
        }
      ],
      "source": [
        "def count_up_to(max):\n",
        "    count = 1\n",
        "    while count <= max:\n",
        "        yield count\n",
        "        count +=1\n",
        "counter = count_up_to(10)\n",
        "for i in counter:\n",
        "    print(i)\n"
      ]
    },
    {
      "cell_type": "markdown",
      "source": [
        "ques 7  What are the advantages of using generators over regular functions?\n",
        "\n",
        "There are several advantages of using generator over regular functions such as :\n",
        "\n",
        "*  Performance : Generators allow processing of data on-the-fly, which can be more efficient when you're dealing with large amounts of data that don't need to be kept in memory.\n",
        "Regular functions often compute and return all values at once, which can be slower when you only need to process part of the sequence.\n",
        "\n",
        "* Memory Efficiency :Generators produce values one at a time and only when needed. This means they don’t store the entire sequence in memory.\n",
        "Regular functions that return values require storing all the values in memory, which can be inefficient if the dataset is large.\n",
        "\n",
        "*  Infinite Sequences: Generators can produce an infinite sequence of values  without running out of memory, as they only compute one value at a time when requested.\n",
        "Regular functions would be unable to handle infinite sequences as they require storing the entire result."
      ],
      "metadata": {
        "id": "q9Tll1FWXR0e"
      }
    },
    {
      "cell_type": "markdown",
      "source": [
        "ques 8 . What is a lambda function in Python and when is it typically used?\n",
        "\n",
        "A lambda function in Python is a small function defined using the lambda keyword. It can have any number of input parameters but only a single expression. The result of that expression is automatically returned, which is why lambda functions are sometimes referred to as \"one-liners\".\n",
        "\n",
        "* use : lambda function is used  when you need a short function for a single use case, typically when the function is simple and won’t be reused elsewhere.\n",
        " It is typically used when you need a quick, simple function for short-term use, especially in functional programming or when passing functions as arguments to higher-order functions like map(), filter(), or sorted()."
      ],
      "metadata": {
        "id": "HfSXIgOLYbaA"
      }
    },
    {
      "cell_type": "code",
      "source": [
        "# A simple lambda function that adds two numbers\n",
        "add = lambda x, y: x + y\n",
        "print(add(3, 4))  # Output: 7\n"
      ],
      "metadata": {
        "colab": {
          "base_uri": "https://localhost:8080/"
        },
        "id": "RJb844LcZUIP",
        "outputId": "cd0f7bbc-67c1-4cdb-9e7f-c016bb1f7409"
      },
      "execution_count": 4,
      "outputs": [
        {
          "output_type": "stream",
          "name": "stdout",
          "text": [
            "7\n"
          ]
        }
      ]
    },
    {
      "cell_type": "markdown",
      "source": [
        "ques 9 Explain the purpose and usage of the `map()` function in Python.\n",
        "\n",
        "The map() function in Python is used to apply a given function to all the items in an iterable (like a list, tuple, etc.) and return an iterator that produces the results. It is particularly useful when you want to  modify the elements of an iterable in some way without needing to explicitly write a loop.\n",
        "\n",
        "*use : f you have multiple iterables and want to apply a function to corresponding elements from each iterable, you can pass them to map():\n",
        "\n",
        "\n"
      ],
      "metadata": {
        "id": "cog2p5OBZbld"
      }
    },
    {
      "cell_type": "code",
      "source": [
        "a1 = [1, 2, 3, 4]\n",
        "a2 = [10, 20, 30, 40]\n",
        "b = map(lambda x, y: x + y, a1, a2)\n",
        "print(list(b))\n"
      ],
      "metadata": {
        "colab": {
          "base_uri": "https://localhost:8080/"
        },
        "id": "4cIiod29ak5U",
        "outputId": "175b6394-de15-4b9a-eb1a-813823e7ccf3"
      },
      "execution_count": 7,
      "outputs": [
        {
          "output_type": "stream",
          "name": "stdout",
          "text": [
            "[11, 22, 33, 44]\n"
          ]
        }
      ]
    },
    {
      "cell_type": "markdown",
      "source": [
        "ques 10 What is the difference between `map()`, `reduce()`, and `filter()` functions in Python?\n",
        "\n",
        "The map(), reduce(), and filter() functions in Python are all built-in higher-order functions that are used to process iterables (like lists, tuples, etc.). While they all deal with applying functions to elements of an iterable, they differ in how they process the data and what they return.\n",
        "\n",
        "* map()\n",
        "\n",
        "map() applies the provided function to each element of the iterable and returns a new iterator. Can take one or more iterables as input. If multiple iterables are provided, the function must accept that many arguments.\n"
      ],
      "metadata": {
        "id": "s0YHgzWgbUfx"
      }
    },
    {
      "cell_type": "markdown",
      "metadata": {
        "id": "jc7CDcyfQ2fY"
      },
      "source": []
    },
    {
      "cell_type": "code",
      "source": [
        "a1 = [1, 2, 3, 4]\n",
        "a2 = [10, 20, 30, 40]\n",
        "b = map(lambda x, y: x + y, a1, a2)\n",
        "print(list(b))\n"
      ],
      "metadata": {
        "id": "RjxG8UYtdAy5"
      },
      "execution_count": null,
      "outputs": []
    },
    {
      "cell_type": "markdown",
      "source": [
        "* reduce()\n",
        "\n",
        "reduce() applies a function that takes two arguments cumulatively to the items in the iterable. It combines the results in a single value ."
      ],
      "metadata": {
        "id": "7jONLOq5dIku"
      }
    },
    {
      "cell_type": "code",
      "source": [
        "from functools import reduce\n",
        "\n",
        "numbers = [1, 2, 3, 4]\n",
        "product = reduce(lambda x, y: x * y, numbers)\n",
        "print(product)\n"
      ],
      "metadata": {
        "colab": {
          "base_uri": "https://localhost:8080/"
        },
        "id": "4MxnWSCmeDBM",
        "outputId": "0ae9ff21-8b68-4f94-a5d5-52416f6845f7"
      },
      "execution_count": 9,
      "outputs": [
        {
          "output_type": "stream",
          "name": "stdout",
          "text": [
            "24\n"
          ]
        }
      ]
    },
    {
      "cell_type": "markdown",
      "source": [
        "* filter()\n",
        "Filter() applies a function that returns True or False to each element in the iterable. It then returns a new iterator containing only the elements for which the function returned True.\n",
        "The function should return a boolean value (True or False) to determine whether an element should be kept."
      ],
      "metadata": {
        "id": "zbkv0fTqeR2G"
      }
    },
    {
      "cell_type": "code",
      "source": [
        "numbers = [1, 2, 3, 4, 5, 6]\n",
        "even_numbers = filter(lambda x: x % 2 == 0, numbers)\n",
        "print(list(even_numbers))\n"
      ],
      "metadata": {
        "colab": {
          "base_uri": "https://localhost:8080/"
        },
        "id": "7CEJADVoeeDx",
        "outputId": "444be460-e5ea-416f-8430-5ac11c7ecc12"
      },
      "execution_count": 10,
      "outputs": [
        {
          "output_type": "stream",
          "name": "stdout",
          "text": [
            "[2, 4, 6]\n"
          ]
        }
      ]
    },
    {
      "cell_type": "markdown",
      "source": [
        "ques 11 using pen & Paper write the internal mechanism for sum operation using  reduce function on this given\n",
        " list:[47,11,42,13];\n",
        "\n",
        "/content/20250116_201612.jpg"
      ],
      "metadata": {
        "id": "fSJPyOAhfC0r"
      }
    },
    {
      "cell_type": "markdown",
      "source": [
        "**pratical questions :**"
      ],
      "metadata": {
        "id": "5ImFR50voFQy"
      }
    },
    {
      "cell_type": "code",
      "source": [
        "# ques 1 1. Write a Python function that takes a list of numbers as input and returns the sum of all even numbers in\n",
        "\n",
        "\n",
        "my_list = [10,31,7,22,35,40]\n",
        "result = sum_of_even_numbers(my_list)\n",
        "print(result)"
      ],
      "metadata": {
        "colab": {
          "base_uri": "https://localhost:8080/"
        },
        "id": "KOspXHJ8ruUe",
        "outputId": "7c8af106-3bce-4e96-dfb6-5b348190ea50"
      },
      "execution_count": 64,
      "outputs": [
        {
          "output_type": "stream",
          "name": "stdout",
          "text": [
            "72\n"
          ]
        }
      ]
    },
    {
      "cell_type": "code",
      "source": [
        "#ques 2  Create a Python function that accepts a string and returns the reverse of that string.\n",
        "def reverse_string(s):\n",
        "    return s[::-1]\n",
        "a = \"its winter\"\n",
        "result = reverse_string(a)\n",
        "print(result)\n",
        "\n"
      ],
      "metadata": {
        "colab": {
          "base_uri": "https://localhost:8080/"
        },
        "id": "R9qtLWXpscMO",
        "outputId": "39e039f4-37bf-421e-cee1-eeb79dd41c85"
      },
      "execution_count": 65,
      "outputs": [
        {
          "output_type": "stream",
          "name": "stdout",
          "text": [
            "retniw sti\n"
          ]
        }
      ]
    },
    {
      "cell_type": "code",
      "source": [
        "#ques 3 . Implement a Python function that takes a list of integers and returns a new list containing the squares of\n",
        "def square_numbers(numbers):\n",
        "    return [i ** 2 for i in numbers]\n",
        "a = [1, 2, 3, 4, 5]\n",
        "squared_list = square_numbers(a)\n",
        "print(squared_list)\n"
      ],
      "metadata": {
        "colab": {
          "base_uri": "https://localhost:8080/"
        },
        "id": "uPxI-41HtHXc",
        "outputId": "ae8fa0bb-c3be-49de-b8dc-e2a75ebf3e3c"
      },
      "execution_count": 66,
      "outputs": [
        {
          "output_type": "stream",
          "name": "stdout",
          "text": [
            "[1, 4, 9, 16, 25]\n"
          ]
        }
      ]
    },
    {
      "cell_type": "code",
      "source": [
        "# ques 4  Write a Python function that checks if a given number is prime or not from 1 to 200\n",
        "def is_prime(number):\n",
        "    if number <= 1:\n",
        "        return False\n",
        "    for i in range(2, int(number ** 0.5) + 1):\n",
        "        if number % i == 0:\n",
        "            return False\n",
        "    return True\n",
        "primes = [num for num in range(1, 201) if is_prime(num)]\n",
        "print(primes)\n"
      ],
      "metadata": {
        "colab": {
          "base_uri": "https://localhost:8080/"
        },
        "id": "jxOVVJtztvGV",
        "outputId": "015d2111-5fe8-4ae3-e383-85c2a8c70e52"
      },
      "execution_count": 67,
      "outputs": [
        {
          "output_type": "stream",
          "name": "stdout",
          "text": [
            "[2, 3, 5, 7, 11, 13, 17, 19, 23, 29, 31, 37, 41, 43, 47, 53, 59, 61, 67, 71, 73, 79, 83, 89, 97, 101, 103, 107, 109, 113, 127, 131, 137, 139, 149, 151, 157, 163, 167, 173, 179, 181, 191, 193, 197, 199]\n"
          ]
        }
      ]
    },
    {
      "cell_type": "code",
      "source": [
        "# ques 5 Create an iterator class in Python that generates the Fibonacci sequence up to a specified number of term\n",
        "class FibonacciIterator:\n",
        "    def __init__(self, n):\n",
        "        self.n = n\n",
        "        self.a, self.b = 0, 1\n",
        "        self.count = 0\n",
        "\n",
        "    def __iter__(self):\n",
        "        return self\n",
        "\n",
        "    def __next__(self):\n",
        "        if self.count < self.n:\n",
        "            fib_number = self.a\n",
        "            self.a, self.b = self.b, self.a + self.b\n",
        "            self.count += 1\n",
        "            return fib_number\n",
        "        else:\n",
        "            raise StopIteration\n",
        "fib = FibonacciIterator(10)\n",
        "for num in fib:\n",
        "    print(num)\n"
      ],
      "metadata": {
        "colab": {
          "base_uri": "https://localhost:8080/"
        },
        "id": "skV6ZGdju-7B",
        "outputId": "6d81e815-b158-43b2-be20-b63a128bf715"
      },
      "execution_count": 68,
      "outputs": [
        {
          "output_type": "stream",
          "name": "stdout",
          "text": [
            "0\n",
            "1\n",
            "1\n",
            "2\n",
            "3\n",
            "5\n",
            "8\n",
            "13\n",
            "21\n",
            "34\n"
          ]
        }
      ]
    },
    {
      "cell_type": "code",
      "source": [
        "#ques 6  Write a generator function in Python that yields the powers of 2 up to a given exponent.\n",
        "def powers_of_2(exponent):\n",
        "    for i in range(exponent + 1):\n",
        "        yield 2 ** i\n",
        "for power in powers_of_2(5):\n",
        "    print(power)\n"
      ],
      "metadata": {
        "colab": {
          "base_uri": "https://localhost:8080/"
        },
        "id": "mSPSWd58w204",
        "outputId": "83437b4d-9788-4fe5-bda5-1b01342929dc"
      },
      "execution_count": 69,
      "outputs": [
        {
          "output_type": "stream",
          "name": "stdout",
          "text": [
            "1\n",
            "2\n",
            "4\n",
            "8\n",
            "16\n",
            "32\n"
          ]
        }
      ]
    },
    {
      "cell_type": "code",
      "source": [
        "#ques 7  Implement a generator function that reads a file line by line and yields each line as a string.\n",
        "def read_file_lines(file_path):\n",
        "    with open(file_path, 'r') as file:\n",
        "        for line in file:\n",
        "            yield line\n",
        "file_path = 'example.txt'\n",
        "\n"
      ],
      "metadata": {
        "id": "SjORWuWv7exh"
      },
      "execution_count": 70,
      "outputs": []
    },
    {
      "cell_type": "code",
      "source": [
        "#ques 8  Use a lambda function in Python to sort a list of tuples based on the second element of each tuple.\n",
        "my_list = [(1, 5), (3, 2), (2, 8), (4, 1)]\n",
        "sorted_list = sorted(my_list, key=lambda x: x[1])\n",
        "print(sorted_list)"
      ],
      "metadata": {
        "colab": {
          "base_uri": "https://localhost:8080/"
        },
        "id": "ycsx5uYi8RsR",
        "outputId": "cf7bbd6d-547d-4feb-90d2-d47f766b5bb8"
      },
      "execution_count": 71,
      "outputs": [
        {
          "output_type": "stream",
          "name": "stdout",
          "text": [
            "[(4, 1), (3, 2), (1, 5), (2, 8)]\n"
          ]
        }
      ]
    },
    {
      "cell_type": "code",
      "source": [
        "#ques 9 . Write a Python program that uses `map()` to convert a list of temperatures from Celsius to Fahrenheit.\n",
        "celsius_temperatures = [10, 33, 47, 100, 50]\n",
        "def celsius_to_fahrenheit(celsius):\n",
        "    return (celsius * 9/5) + 32\n",
        "fahrenheit_temperatures = list(map(celsius_to_fahrenheit, celsius_temperatures))\n",
        "print(fahrenheit_temperatures)\n"
      ],
      "metadata": {
        "colab": {
          "base_uri": "https://localhost:8080/"
        },
        "id": "CUvvQlvw8vbk",
        "outputId": "84674aad-2559-45a3-da56-c7233519c1af"
      },
      "execution_count": 72,
      "outputs": [
        {
          "output_type": "stream",
          "name": "stdout",
          "text": [
            "[50.0, 91.4, 116.6, 212.0, 122.0]\n"
          ]
        }
      ]
    },
    {
      "cell_type": "code",
      "source": [
        "#ques 10  Create a Python program that uses `filter()` to remove all the vowels from a given string\n",
        "# Function to check if a character is not a vowel\n",
        "\n",
        "def is_not_vowel(char):\n",
        "    return char.lower() not in 'aeiou'\n",
        "input_string = \"This is the first month of the year\"\n",
        "\n",
        "filtered_string = ''.join(filter(is_not_vowel, input_string))\n",
        "print(filtered_string)\n"
      ],
      "metadata": {
        "colab": {
          "base_uri": "https://localhost:8080/"
        },
        "id": "BQCCBEnb_3i_",
        "outputId": "4f7bbdeb-af2e-48ee-af82-acd92f172185"
      },
      "execution_count": 73,
      "outputs": [
        {
          "output_type": "stream",
          "name": "stdout",
          "text": [
            "Ths s th frst mnth f th yr\n"
          ]
        }
      ]
    },
    {
      "cell_type": "code",
      "source": [
        "#ques 11 Imagine an accounting routine used in a book shop. It works on a list with sublists, which look like this\n",
        "orders = [\n",
        "    [34587, 'Learning Python, Mark Lutz', 4, 40.95],\n",
        "    [98762, 'Programming Python, Mark Lutz', 5, 56.80],\n",
        "    [77226, 'Head First Python, Paul Barry', 3, 32.95],\n",
        "    [88112, 'Einführung in Python3, Bernd Klein', 3, 24.99]\n",
        "]\n",
        "\n",
        "result = list(map(lambda order: (order[0], order[3] * order[2] + 10 if order[3] * order[2] < 100 else order[3] * order[2]), orders))\n",
        "\n",
        "print(result)"
      ],
      "metadata": {
        "colab": {
          "base_uri": "https://localhost:8080/"
        },
        "id": "tK5N6TwoAMO2",
        "outputId": "663aaa59-48b1-4c1a-d0c9-feff9d1d6b4d"
      },
      "execution_count": 74,
      "outputs": [
        {
          "output_type": "stream",
          "name": "stdout",
          "text": [
            "[(34587, 163.8), (98762, 284.0), (77226, 108.85000000000001), (88112, 84.97)]\n"
          ]
        }
      ]
    }
  ],
  "metadata": {
    "colab": {
      "provenance": []
    },
    "kernelspec": {
      "display_name": "Python 3",
      "name": "python3"
    },
    "language_info": {
      "name": "python"
    }
  },
  "nbformat": 4,
  "nbformat_minor": 0
}